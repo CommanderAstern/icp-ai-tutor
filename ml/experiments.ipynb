{
 "cells": [
  {
   "cell_type": "code",
   "execution_count": 13,
   "metadata": {},
   "outputs": [
    {
     "data": {
      "text/plain": [
       "True"
      ]
     },
     "execution_count": 13,
     "metadata": {},
     "output_type": "execute_result"
    }
   ],
   "source": [
    "import os\n",
    "from dotenv import load_dotenv\n",
    "import zipfile\n",
    "\n",
    "from langchain.document_loaders import PyPDFLoader\n",
    "from langchain.text_splitter import CharacterTextSplitter\n",
    "from langchain.embeddings import OpenAIEmbeddings\n",
    "from langchain.chains.question_answering import load_qa_chain\n",
    "from langchain.chat_models import ChatOpenAI\n",
    "from langchain.vectorstores import Chroma\n",
    "import chromadb\n",
    "from dotenv import load_dotenv\n",
    "import pickle\n",
    "\n",
    "load_dotenv()"
   ]
  },
  {
   "cell_type": "code",
   "execution_count": 12,
   "metadata": {},
   "outputs": [],
   "source": [
    "def load_chunk_persist_pdf() -> Chroma:\n",
    "    pdf_folder_path = \"./pdfs/\"\n",
    "    documents = []\n",
    "    for file in os.listdir(pdf_folder_path):\n",
    "        if file.endswith('.pdf'):\n",
    "            pdf_path = os.path.join(pdf_folder_path, file)\n",
    "            loader = PyPDFLoader(pdf_path)\n",
    "            documents.extend(loader.load())\n",
    "    text_splitter = CharacterTextSplitter(chunk_size=1000, chunk_overlap=10)\n",
    "    chunked_documents = text_splitter.split_documents(documents)\n",
    "    client = chromadb.Client()\n",
    "    if client.list_collections():\n",
    "        consent_collection = client.create_collection(\"consent_collection\")\n",
    "    else:\n",
    "        print(\"Collection already exists\")\n",
    "    vectordb = Chroma.from_documents(\n",
    "        documents=chunked_documents,\n",
    "        embedding=OpenAIEmbeddings(),\n",
    "        persist_directory=\"./chroma_store\"\n",
    "    )\n",
    "    vectordb.persist()\n",
    "    return vectordb"
   ]
  },
  {
   "cell_type": "code",
   "execution_count": null,
   "metadata": {},
   "outputs": [],
   "source": [
    "def create_agent_chain():\n",
    "    model_name = \"gpt-3.5-turbo\"\n",
    "    llm = ChatOpenAI(model_name=model_name)\n",
    "    chain = load_qa_chain(llm, chain_type=\"stuff\")\n",
    "    return chain"
   ]
  },
  {
   "cell_type": "code",
   "execution_count": null,
   "metadata": {},
   "outputs": [],
   "source": [
    "def get_llm_response(query, vectordb):\n",
    "    chain = create_agent_chain()\n",
    "    matching_docs = vectordb.similarity_search(query)\n",
    "    answer = chain.run(input_documents=matching_docs, question=query)\n",
    "    return answer"
   ]
  },
  {
   "cell_type": "code",
   "execution_count": null,
   "metadata": {},
   "outputs": [],
   "source": [
    "def zip_folder(folder_path, output_path):\n",
    "    \"\"\"\n",
    "    Compresses a folder into a ZIP file.\n",
    "\n",
    "    Parameters:\n",
    "    - folder_path: The path to the folder that should be compressed.\n",
    "    - output_path: The path where the output ZIP file should be saved.\n",
    "    \"\"\"\n",
    "    # Create a ZIP file for writing compressed data\n",
    "    with zipfile.ZipFile(output_path, 'w', zipfile.ZIP_DEFLATED) as zipf:\n",
    "        # Walk through the directory\n",
    "        for root, dirs, files in os.walk(folder_path):\n",
    "            for file in files:\n",
    "                # Create a relative path for files to maintain the directory structure\n",
    "                rel_path = os.path.relpath(os.path.join(root, file), os.path.dirname(folder_path))\n",
    "                zipf.write(os.path.join(root, file), arcname=rel_path)"
   ]
  },
  {
   "cell_type": "code",
   "execution_count": null,
   "metadata": {},
   "outputs": [],
   "source": [
    "zip_folder(\"./chroma_store\", \"chroma_store.zip\")"
   ]
  },
  {
   "cell_type": "code",
   "execution_count": null,
   "metadata": {},
   "outputs": [],
   "source": [
    "res = load_chunk_persist_pdf() "
   ]
  },
  {
   "cell_type": "code",
   "execution_count": null,
   "metadata": {},
   "outputs": [],
   "source": [
    "# with open('vector_db.pkl', 'wb') as f:\n",
    "#     pickle.dump(res, f)"
   ]
  },
  {
   "cell_type": "code",
   "execution_count": null,
   "metadata": {},
   "outputs": [],
   "source": [
    "get_llm_response(\"What is the purpose of this study?\", res)\n"
   ]
  },
  {
   "cell_type": "code",
   "execution_count": null,
   "metadata": {},
   "outputs": [],
   "source": []
  },
  {
   "cell_type": "code",
   "execution_count": 28,
   "metadata": {},
   "outputs": [],
   "source": [
    "import requests\n",
    "from langchain.vectorstores import Chroma\n",
    "import shutil\n",
    "import zipfile\n",
    "\n",
    "zip_path = './temp_storage/chroma_store_1_pdf.zip'\n",
    "db_path = './temp_storage/chroma_store_1'\n",
    "url = \"http://ajuq4-ruaaa-aaaaa-qaaga-cai.localhost:4943/chroma_store_1_pdf.zip\"\n",
    "\n",
    "def run_query(query):\n",
    "    os.makedirs('./temp_storage', exist_ok=True)\n",
    "\n",
    "    response = requests.get(url)\n",
    "    if response.status_code == 200:\n",
    "        with open(zip_path, 'wb') as f:\n",
    "            f.write(response.content)\n",
    "        message = \"File downloaded successfully.\"\n",
    "    else:\n",
    "        message = f\"Failed to download the file. Status code: {response.status_code}\"\n",
    "        return 0\n",
    "\n",
    "    with zipfile.ZipFile(zip_path, 'r') as zip_ref:\n",
    "        zip_ref.extractall(db_path)\n",
    "    print(message)\n",
    "    db = Chroma(persist_directory=db_path, embedding_function=OpenAIEmbeddings())\n",
    "\n",
    "\n",
    "    model_name = \"gpt-3.5-turbo\"\n",
    "    llm = ChatOpenAI(model_name=model_name)\n",
    "    chain = load_qa_chain(llm, chain_type=\"stuff\")\n",
    "\n",
    "    matching_docs = db.similarity_search(query)\n",
    "    answer = chain.run(input_documents=matching_docs, question=query)    \n",
    "\n",
    "    return answer\n",
    "\n"
   ]
  },
  {
   "cell_type": "code",
   "execution_count": 46,
   "metadata": {},
   "outputs": [
    {
     "data": {
      "text/plain": [
       "\"Corruption, as described in the documents provided, is referred to as an insidious plague that has a wide range of corrosive effects on societies. It is a phenomenon found in all countries, big and small, rich and poor, but its effects are most destructive in the developing world. The detrimental impacts of corruption include undermining democracy and the rule of law, leading to human rights violations, distorting markets, eroding the quality of life, and allowing organized crime, terrorism, and other threats to human security to flourish.\\n\\nOne significant consequence of corruption highlighted in the documents is its disproportionate impact on the poor. It diverts funds intended for development, undermines a government's ability to provide basic services, feeds inequality and injustice, and discourages foreign aid and investment. Moreover, corruption is identified as a key element in economic underperformance and a major obstacle to poverty alleviation and overall development.\\n\\nTo address the detrimental effects of corruption, the United Nations Convention against Corruption was adopted as a new instrument on a global level. This Convention aims to send a clear message that the international community is determined to prevent and control corruption. It emphasizes the importance of core values such as honesty, respect for the rule of law, accountability, and transparency in promoting development and creating a better world for all.\\n\\nThe Convention introduces a comprehensive set of standards, measures, and rules that all countries can apply to strengthen their legal and regulatory regimes against corruption. It calls for preventive measures, criminalization of prevalent forms of corruption, and the return of assets obtained through corruption to the country from which they were stolen. This Convention is seen as a remarkable achievement that complements other instruments aimed at combating corruption and promoting international cooperation.\\n\\nIn summary, corruption is depicted as a destructive force that not only harms societies but also undermines democratic institutions, ethical values, justice, sustainable development, and the rule of law. The fight against corruption requires a comprehensive, multidisciplinary approach, international cooperation, and the active participation of various sectors of society to prevent and combat corrupt practices effectively.\""
      ]
     },
     "execution_count": 46,
     "metadata": {},
     "output_type": "execute_result"
    }
   ],
   "source": [
    "db_path = './temp_storage/chroma_store_1/chroma_store/'\n",
    "db = Chroma(persist_directory=db_path, embedding_function=OpenAIEmbeddings())\n",
    "\n",
    "model_name = \"gpt-3.5-turbo\"\n",
    "llm = ChatOpenAI(model_name=model_name)\n",
    "chain = load_qa_chain(llm, chain_type=\"stuff\")\n",
    "\n",
    "# model_name2 = \"gpt-3.5-turbo\"\n",
    "# llm2 = ChatOpenAI(model_name=model_name2)\n",
    "# chain2 = load_qa_chain(llm2, chain_type=\"stuff\")\n",
    "\n",
    "\n",
    "information = \"what is curroption?\"\n",
    "query = f\"Give content from the docuemnts provided for the following query. If the query doesn't make sense or doesn't relate to the document provided give a general overview of the pdf. Make sure the content is of atleast 300 words: {information}\"\n",
    "\n",
    "matching_docs = db.similarity_search(query)\n",
    "answer = chain.run(input_documents=matching_docs, question=query)    \n",
    "\n",
    "# query = \"From the given context: {answer}. Make 3 Quesions. The question should be in this format #questionstart#question 1, question 2, question 3#questionend#\"\n",
    "# answer2 = chain.run(question=query)    \n",
    "\n",
    "answer"
   ]
  },
  {
   "cell_type": "code",
   "execution_count": 51,
   "metadata": {},
   "outputs": [],
   "source": [
    "from langchain.chat_models import ChatOpenAI\n",
    "from langchain_core.prompts import ChatPromptTemplate\n",
    "from langchain_core.output_parsers import StrOutputParser\n",
    "import re\n",
    "prompt = ChatPromptTemplate.from_messages([\n",
    "    (\"system\", \"You are world class quiz writer who creates questions and answers from content.\"),\n",
    "    (\"user\", \"{input}\")\n",
    "])\n",
    "llm = ChatOpenAI(model_name=\"gpt-3.5-turbo\")\n",
    "output_parser = StrOutputParser()\n",
    "chain = prompt|llm|output_parser \n"
   ]
  },
  {
   "cell_type": "code",
   "execution_count": 53,
   "metadata": {},
   "outputs": [],
   "source": [
    "res = chain.invoke({\"input\": f\"From the given context: {answer}.\"+\" Make 3 Quesions. The question should be in this format #questionstart#{question-content}#questionend# for each question. For a total of 3 times.\"})\n",
    "pattern = r\"#questionstart#(.*?)#questionend#\"\n",
    "questions = re.findall(pattern, res)\n"
   ]
  },
  {
   "cell_type": "code",
   "execution_count": 55,
   "metadata": {},
   "outputs": [],
   "source": [
    "# Define a new prompt template for generating quiz answers\n",
    "prompt2 = ChatPromptTemplate.from_messages([\n",
    "    (\"system\", \"You are a world-class quiz writer who creates one correct and three incorrect answers for quiz questions.\"),\n",
    "    (\"user\", \"{input}\")\n",
    "])\n",
    "\n",
    "# Still using the StrOutputParser for parsing the output to a string\n",
    "output_parser = StrOutputParser()\n",
    "\n",
    "# Chain the components\n",
    "chain2 = prompt2 | llm | output_parser "
   ]
  },
  {
   "cell_type": "code",
   "execution_count": 56,
   "metadata": {},
   "outputs": [
    {
     "name": "stdout",
     "output_type": "stream",
     "text": [
      "['Some of the detrimental impacts of corruption as described in the documents provided include a loss of public trust in government institutions, hindrance of economic development, and exacerbation of inequality.'] ['Corruption has no significant impact on public trust in government institutions.', 'Corruption leads to increased transparency in economic development.', 'Corruption helps reduce inequality within society.']\n",
      "['Corruption diverts resources away from essential services, making it harder for the poor to access things like healthcare and education.'] ['Corruption benefits the poor by providing them with easy access to resources.', 'Corruption has no impact on the poor as they are already disadvantaged.', 'Corruption only affects the wealthy and not the poor.']\n",
      "['The convention provides a framework for countries to develop and implement measures to prevent corruption, promote integrity, and hold individuals and entities accountable for corrupt practices globally.'] ['It is a treaty that promotes corruption', 'It has no impact on combating corruption', 'The convention legalizes corrupt activities']\n"
     ]
    }
   ],
   "source": [
    "for question in questions:\n",
    "    res = chain.invoke({\n",
    "    \"input\": f\"Based on the question: {question}.\" + \n",
    "    \" Generate one correct answer and three incorrect answers for a quiz. \" +\n",
    "    \"Format the answers as follows: #correctanswer#Correct Answer#end# \" +\n",
    "    \"and #wronganswer#Wrong Answer 1#end# #wronganswer#Wrong Answer 2#end# #wronganswer#Wrong Answer 3#end#.\"\n",
    "    })\n",
    "    # Define patterns to extract correct and incorrect answers\n",
    "    correct_pattern = r\"#correctanswer#(.*?)#end#\"\n",
    "    wrong_pattern = r\"#wronganswer#(.*?)#end#\"\n",
    "\n",
    "    # Extracting the correct and incorrect answers\n",
    "    correct_answer = re.findall(correct_pattern, res)\n",
    "    incorrect_answers = re.findall(wrong_pattern, res)\n",
    "\n",
    "    print(correct_answer[0], incorrect_answers[:3])"
   ]
  },
  {
   "cell_type": "code",
   "execution_count": 69,
   "metadata": {},
   "outputs": [],
   "source": [
    "from langchain.chat_models import ChatOpenAI\n",
    "from langchain_core.prompts import ChatPromptTemplate\n",
    "from langchain_core.output_parsers import StrOutputParser\n",
    "import re\n",
    "from langchain.chains.question_answering import load_qa_chain\n",
    "from langchain.vectorstores.chroma import Chroma\n",
    "import random\n",
    "\n",
    "def generate_quiz_from_query(query, db_path='./temp_storage/chroma_store_1/chroma_store/'):\n",
    "    # Initialize the Chroma DB and the language model\n",
    "    db = Chroma(persist_directory=db_path, embedding_function=OpenAIEmbeddings())\n",
    "    llm = ChatOpenAI(model_name=\"gpt-3.5-turbo\")\n",
    "    \n",
    "    # Assuming `load_qa_chain()` is a defined function that loads the QA chain\n",
    "    chain = load_qa_chain(llm, chain_type=\"stuff\")\n",
    "    \n",
    "    content_query = (f\"Give content from the documents provided for the following query. If the query doesn't make sense \"\n",
    "                     f\"or doesn't relate to the document provided give a general overview of the pdf. Make sure the content \"\n",
    "                     f\"is of at least 300 words: {query}\")\n",
    "    \n",
    "    matching_docs = db.similarity_search(content_query)\n",
    "    answer = chain.run(input_documents=matching_docs, question=content_query)\n",
    "    \n",
    "    question_prompt = ChatPromptTemplate.from_messages([\n",
    "        (\"system\", \"You are a world-class quiz writer who creates questions and answers from content.\"),\n",
    "        (\"user\", \"{input}\")\n",
    "    ])\n",
    "    question_chain = question_prompt | llm | StrOutputParser()\n",
    "    question_res = question_chain.invoke({\n",
    "        \"input\": f\"From the given context: {answer}. Make 3 Questions.\"+ \"The question should be in this format #questionstart#{question-content}#questionend# for each question. For a total of 3 times.\"\n",
    "    })\n",
    "    \n",
    "    question_pattern = r\"#questionstart#(.*?)#questionend#\"\n",
    "    questions = re.findall(question_pattern, question_res)\n",
    "    \n",
    "    answer_prompt = ChatPromptTemplate.from_messages([\n",
    "        (\"system\", \"You are a world-class quiz writer who creates one correct and three incorrect answers for quiz questions.\"),\n",
    "        (\"user\", \"{input}\")\n",
    "    ])\n",
    "    answer_chain = answer_prompt | llm | StrOutputParser()\n",
    "    \n",
    "    placeholder = \"Placeholder\"\n",
    "    quiz_results = []\n",
    "    \n",
    "    for question in questions:\n",
    "        res = answer_chain.invoke({\n",
    "            \"input\": f\"Based on the question: {question}. Generate one correct answer and three incorrect answers for a quiz. \"\n",
    "                     \"Format the answers as follows: #correctanswer#Correct Answer#end# \"\n",
    "                     \"and #wronganswer#Wrong Answer 1#end# #wronganswer#Wrong Answer 2#end# #wronganswer#Wrong Answer 3#end#.\"\n",
    "        })\n",
    "        \n",
    "        correct_pattern = r\"#correctanswer#(.*?)#end#\"\n",
    "        wrong_pattern = r\"#wronganswer#(.*?)#end#\"\n",
    "        \n",
    "        correct_answer = re.findall(correct_pattern, res)\n",
    "        incorrect_answers = re.findall(wrong_pattern, res)\n",
    "        \n",
    "        # Remove \"Wrong Answer\" and \"Correct Answer\" text from the answers\n",
    "        correct_answer = [answer.replace(\"Correct Answer\", \"\").strip() for answer in correct_answer]\n",
    "        incorrect_answers = [answer.replace(\"Wrong Answer\", \"\").strip() for answer in incorrect_answers]\n",
    "        \n",
    "        if not correct_answer or len(incorrect_answers) < 3:\n",
    "            correct_answer = [placeholder]\n",
    "            incorrect_answers = [placeholder for _ in range(3)]\n",
    "\n",
    "        answers = correct_answer + incorrect_answers[:3]\n",
    "        random.shuffle(answers)\n",
    "        correct_index = answers.index(correct_answer[0])\n",
    "\n",
    "        # Clean the question if necessary\n",
    "        question = question if question and question.strip() != \"#questionstart##questionend#\" else placeholder\n",
    "\n",
    "        quiz_results.append({\n",
    "            \"question\": question,\n",
    "            \"answers\": answers,\n",
    "            \"correct_index\": correct_index\n",
    "        })\n",
    "    \n",
    "    return quiz_results\n"
   ]
  },
  {
   "cell_type": "code",
   "execution_count": 71,
   "metadata": {},
   "outputs": [
    {
     "name": "stdout",
     "output_type": "stream",
     "text": [
      "[{'question': 'What are some of the corrosive effects of corruption on societies, as mentioned in the text?', 'answers': ['Promoting ethical behavior and good governance', 'Increasing transparency and accountability', 'Undermining trust in institutions and eroding social cohesion#', 'Boosting economic growth and development'], 'correct_index': 2}, {'question': 'How does corruption disproportionately impact the poor, according to the text?', 'answers': ['Corruption diverts resources meant for public services, affecting the poor who rely on these services', 'Corruption does not impact the poor differently than other social classes', 'Corruption leads to economic growth, benefiting the poor', 'Corruption benefits the poor by providing them with more opportunities'], 'correct_index': 0}, {'question': 'What key values does the United Nations Convention against Corruption emphasize in its efforts to combat corruption globally?', 'answers': ['Corruption, Bribery, Collusion', 'Transparency, Accountability, Integrity', 'Secrecy, Dishonesty, Greed', 'Anarchy, Deception, Fraud'], 'correct_index': 1}]\n"
     ]
    }
   ],
   "source": [
    "query = \"What is corruption?\"\n",
    "quiz_results = generate_quiz_from_query(query)\n",
    "print(quiz_results)"
   ]
  },
  {
   "cell_type": "code",
   "execution_count": 72,
   "metadata": {},
   "outputs": [
    {
     "name": "stdout",
     "output_type": "stream",
     "text": [
      "What are some of the corrosive effects of corruption on societies, as mentioned in the text?\n",
      "['Promoting ethical behavior and good governance', 'Increasing transparency and accountability', 'Undermining trust in institutions and eroding social cohesion#', 'Boosting economic growth and development']\n",
      "2\n",
      "How does corruption disproportionately impact the poor, according to the text?\n",
      "['Corruption diverts resources meant for public services, affecting the poor who rely on these services', 'Corruption does not impact the poor differently than other social classes', 'Corruption leads to economic growth, benefiting the poor', 'Corruption benefits the poor by providing them with more opportunities']\n",
      "0\n",
      "What key values does the United Nations Convention against Corruption emphasize in its efforts to combat corruption globally?\n",
      "['Corruption, Bribery, Collusion', 'Transparency, Accountability, Integrity', 'Secrecy, Dishonesty, Greed', 'Anarchy, Deception, Fraud']\n",
      "1\n"
     ]
    }
   ],
   "source": [
    "for i in quiz_results:\n",
    "    print(i['question'])\n",
    "    print(i['answers'])\n",
    "    print(i['correct_index'])"
   ]
  }
 ],
 "metadata": {
  "kernelspec": {
   "display_name": "Python 3",
   "language": "python",
   "name": "python3"
  },
  "language_info": {
   "codemirror_mode": {
    "name": "ipython",
    "version": 3
   },
   "file_extension": ".py",
   "mimetype": "text/x-python",
   "name": "python",
   "nbconvert_exporter": "python",
   "pygments_lexer": "ipython3",
   "version": "3.10.8"
  },
  "orig_nbformat": 4
 },
 "nbformat": 4,
 "nbformat_minor": 2
}
